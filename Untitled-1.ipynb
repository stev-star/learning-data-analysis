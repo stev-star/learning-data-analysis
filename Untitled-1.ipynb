{
 "cells": [
  {
   "cell_type": "code",
   "execution_count": 2,
   "metadata": {},
   "outputs": [
    {
     "name": "stdout",
     "output_type": "stream",
     "text": [
      "hello\n"
     ]
    }
   ],
   "source": [
    "greeting=\"hello\"\n",
    "print(greeting)"
   ]
  },
  {
   "cell_type": "code",
   "execution_count": 3,
   "metadata": {},
   "outputs": [
    {
     "data": {
      "text/plain": [
       "\"It's a beautiful day\""
      ]
     },
     "execution_count": 3,
     "metadata": {},
     "output_type": "execute_result"
    }
   ],
   "source": [
    "message=\"It's a beautiful day\"\n",
    "message"
   ]
  },
  {
   "cell_type": "code",
   "execution_count": 4,
   "metadata": {},
   "outputs": [
    {
     "data": {
      "text/plain": [
       "'C:\\\\mac\\\\bin'"
      ]
     },
     "execution_count": 4,
     "metadata": {},
     "output_type": "execute_result"
    }
   ],
   "source": [
    "path=r\"C:\\mac\\bin\"\n",
    "path"
   ]
  },
  {
   "cell_type": "code",
   "execution_count": 7,
   "metadata": {},
   "outputs": [
    {
     "name": "stdout",
     "output_type": "stream",
     "text": [
      " \n",
      "Usage: Mysql command\n",
      "    -h hostname\n",
      "    -d database name\n",
      "    -u username\n",
      "    -p password\n",
      "\n"
     ]
    }
   ],
   "source": [
    "help_message=''' \n",
    "Usage: Mysql command\n",
    "    -h hostname\n",
    "    -d database name\n",
    "    -u username\n",
    "    -p password\n",
    "'''\n",
    "print(help_message)"
   ]
  },
  {
   "cell_type": "code",
   "execution_count": 9,
   "metadata": {},
   "outputs": [
    {
     "name": "stdout",
     "output_type": "stream",
     "text": [
      "27\n",
      "0.75\n",
      "5\n",
      "-3\n",
      "8\n"
     ]
    }
   ],
   "source": [
    "# Arithmetic\n",
    "print(3**3)\n",
    "print(3/4)\n",
    "print(2+3)\n",
    "print(2-5)\n",
    "print(4*2)"
   ]
  },
  {
   "cell_type": "code",
   "execution_count": 14,
   "metadata": {},
   "outputs": [
    {
     "name": "stdout",
     "output_type": "stream",
     "text": [
      "net_price : 25.0\n"
     ]
    }
   ],
   "source": [
    "price=input('Enter the price :')\n",
    "tax=input(\"Enter the tax rate :\")\n",
    "\n",
    "net_price=int(price)*int(tax)/100\n",
    "\n",
    "print(\"net_price :\",net_price)\n"
   ]
  },
  {
   "cell_type": "code",
   "execution_count": 15,
   "metadata": {},
   "outputs": [
    {
     "name": "stdout",
     "output_type": "stream",
     "text": [
      "passed\n"
     ]
    }
   ],
   "source": [
    "marks=input(\"Enter your marks: \")\n",
    "if int(marks)>=50:\n",
    "    print(\"passed\")\n",
    "else:\n",
    "    print(\"try again\")\n",
    "    \n",
    "    "
   ]
  },
  {
   "cell_type": "code",
   "execution_count": 17,
   "metadata": {},
   "outputs": [
    {
     "name": "stdout",
     "output_type": "stream",
     "text": [
      "0\n",
      "3\n",
      "6\n",
      "9\n"
     ]
    }
   ],
   "source": [
    "for index in range(0,10,3):\n",
    "    print(index)"
   ]
  },
  {
   "cell_type": "code",
   "execution_count": null,
   "metadata": {},
   "outputs": [],
   "source": []
  }
 ],
 "metadata": {
  "interpreter": {
   "hash": "23157d23a2dde5d23c6abe4cf4860ed98f6d3ee411159d2f0fed97769b751103"
  },
  "kernelspec": {
   "display_name": "Python 3.10.0 64-bit",
   "language": "python",
   "name": "python3"
  },
  "language_info": {
   "codemirror_mode": {
    "name": "ipython",
    "version": 3
   },
   "file_extension": ".py",
   "mimetype": "text/x-python",
   "name": "python",
   "nbconvert_exporter": "python",
   "pygments_lexer": "ipython3",
   "version": "3.10.0"
  },
  "orig_nbformat": 4
 },
 "nbformat": 4,
 "nbformat_minor": 2
}
